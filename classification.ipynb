{
  "nbformat": 4,
  "nbformat_minor": 0,
  "metadata": {
    "colab": {
      "provenance": [],
      "authorship_tag": "ABX9TyP5XBMSbmbGLPAYUGygjqJt",
      "include_colab_link": true
    },
    "kernelspec": {
      "name": "python3",
      "display_name": "Python 3"
    },
    "language_info": {
      "name": "python"
    }
  },
  "cells": [
    {
      "cell_type": "markdown",
      "metadata": {
        "id": "view-in-github",
        "colab_type": "text"
      },
      "source": [
        "<a href=\"https://colab.research.google.com/github/sasichintada/ml-workshop/blob/main/classification.ipynb\" target=\"_parent\"><img src=\"https://colab.research.google.com/assets/colab-badge.svg\" alt=\"Open In Colab\"/></a>"
      ]
    },
    {
      "cell_type": "markdown",
      "source": [
        "####**Student Depression Dataset**"
      ],
      "metadata": {
        "id": "p9yYCaeTtoUe"
      }
    },
    {
      "cell_type": "markdown",
      "source": [
        "**Features**\n",
        "\n",
        "    ID: Unique identifier for each student.\n",
        "    Age: Age of the student.\n",
        "    Gender: Gender (e.g., Male, Female).\n",
        "    City: Geographic region\n",
        "    CGPA: Grade Point Average or other academic scores.\n",
        "    Sleep Duration: Average daily sleep duration.\n",
        "    Profession:The occupation or job type of the individual\n",
        "    Work Pressure:The level of stress or pressure related to one's work\n",
        "    Academic Pressure:The stress of an individual feels due to academic performance or workload.\n",
        "    Study Satisfaction:The individual's satisfaction with their study or learning experience.\n",
        "    Job Satisfaction:The level of satisfaction an individual feels regarding their job or work environment.\n",
        "    Dietary Habits:The typical eating patterns or food choices of an individual"
      ],
      "metadata": {
        "id": "Y7CkEQzcIVYV"
      }
    },
    {
      "cell_type": "code",
      "source": [
        "import pandas as pd\n",
        "import numpy as np\n",
        "from sklearn.model_selection import train_test_split\n",
        "from sklearn.preprocessing import StandardScaler\n",
        "from sklearn.linear_model import LogisticRegression\n",
        "from sklearn.naive_bayes import GaussianNB\n",
        "from sklearn.neighbors import KNeighborsClassifier\n",
        "from sklearn.tree import DecisionTreeClassifier\n",
        "from sklearn.svm import SVC\n",
        "from sklearn.metrics import accuracy_score, precision_score, recall_score, f1_score"
      ],
      "metadata": {
        "id": "Mig3PLq9_UBD"
      },
      "execution_count": 22,
      "outputs": []
    },
    {
      "cell_type": "code",
      "source": [
        "df = pd.read_csv('/content/Student Depression Dataset.csv')\n",
        "print(df.head())"
      ],
      "metadata": {
        "colab": {
          "base_uri": "https://localhost:8080/"
        },
        "id": "FGPOBy_y_ZIz",
        "outputId": "89fcca16-8bfe-4b93-fd5b-eacb6092a1b5"
      },
      "execution_count": 23,
      "outputs": [
        {
          "output_type": "stream",
          "name": "stdout",
          "text": [
            "   id  Gender   Age           City Profession  Academic Pressure  \\\n",
            "0   2    Male  33.0  Visakhapatnam    Student                5.0   \n",
            "1   8  Female  24.0      Bangalore    Student                2.0   \n",
            "2  26    Male  31.0       Srinagar    Student                3.0   \n",
            "3  30  Female  28.0       Varanasi    Student                3.0   \n",
            "4  32  Female  25.0         Jaipur    Student                4.0   \n",
            "\n",
            "   Work Pressure  CGPA  Study Satisfaction  Job Satisfaction  \\\n",
            "0            0.0  8.97                 2.0               0.0   \n",
            "1            0.0  5.90                 5.0               0.0   \n",
            "2            0.0  7.03                 5.0               0.0   \n",
            "3            0.0  5.59                 2.0               0.0   \n",
            "4            0.0  8.13                 3.0               0.0   \n",
            "\n",
            "      Sleep Duration Dietary Habits   Degree  \\\n",
            "0          5-6 hours        Healthy  B.Pharm   \n",
            "1          5-6 hours       Moderate      BSc   \n",
            "2  Less than 5 hours        Healthy       BA   \n",
            "3          7-8 hours       Moderate      BCA   \n",
            "4          5-6 hours       Moderate   M.Tech   \n",
            "\n",
            "  Have you ever had suicidal thoughts ?  Work/Study Hours  Financial Stress  \\\n",
            "0                                   Yes               3.0               1.0   \n",
            "1                                    No               3.0               2.0   \n",
            "2                                    No               9.0               1.0   \n",
            "3                                   Yes               4.0               5.0   \n",
            "4                                   Yes               1.0               1.0   \n",
            "\n",
            "  Family History of Mental Illness  Depression  \n",
            "0                               No           1  \n",
            "1                              Yes           0  \n",
            "2                              Yes           0  \n",
            "3                              Yes           1  \n",
            "4                               No           0  \n"
          ]
        }
      ]
    },
    {
      "cell_type": "code",
      "source": [
        "print(df.isnull().sum())"
      ],
      "metadata": {
        "colab": {
          "base_uri": "https://localhost:8080/"
        },
        "id": "jlXvl0ym_jK6",
        "outputId": "b4697158-7bfb-4766-91b0-4d263664dc8b"
      },
      "execution_count": 24,
      "outputs": [
        {
          "output_type": "stream",
          "name": "stdout",
          "text": [
            "id                                       0\n",
            "Gender                                   0\n",
            "Age                                      0\n",
            "City                                     0\n",
            "Profession                               0\n",
            "Academic Pressure                        0\n",
            "Work Pressure                            0\n",
            "CGPA                                     0\n",
            "Study Satisfaction                       0\n",
            "Job Satisfaction                         0\n",
            "Sleep Duration                           0\n",
            "Dietary Habits                           0\n",
            "Degree                                   0\n",
            "Have you ever had suicidal thoughts ?    0\n",
            "Work/Study Hours                         0\n",
            "Financial Stress                         3\n",
            "Family History of Mental Illness         0\n",
            "Depression                               0\n",
            "dtype: int64\n"
          ]
        }
      ]
    },
    {
      "cell_type": "code",
      "source": [
        "df['Financial Stress'].dropna(inplace=True)"
      ],
      "metadata": {
        "id": "fXnM7MJ5_4s-"
      },
      "execution_count": 26,
      "outputs": []
    },
    {
      "cell_type": "code",
      "source": [
        "print(df.isnull().sum())"
      ],
      "metadata": {
        "colab": {
          "base_uri": "https://localhost:8080/"
        },
        "id": "EgTxUbKIACVF",
        "outputId": "1e8a6cfd-e326-4b0b-f07c-d757447dfac5"
      },
      "execution_count": 27,
      "outputs": [
        {
          "output_type": "stream",
          "name": "stdout",
          "text": [
            "id                                       0\n",
            "Gender                                   0\n",
            "Age                                      0\n",
            "City                                     0\n",
            "Profession                               0\n",
            "Academic Pressure                        0\n",
            "Work Pressure                            0\n",
            "CGPA                                     0\n",
            "Study Satisfaction                       0\n",
            "Job Satisfaction                         0\n",
            "Sleep Duration                           0\n",
            "Dietary Habits                           0\n",
            "Degree                                   0\n",
            "Have you ever had suicidal thoughts ?    0\n",
            "Work/Study Hours                         0\n",
            "Financial Stress                         0\n",
            "Family History of Mental Illness         0\n",
            "Depression                               0\n",
            "dtype: int64\n"
          ]
        }
      ]
    },
    {
      "cell_type": "code",
      "source": [
        "for i in range(len(df['Work/Study Hours'])):\n",
        "    value = df['Work/Study Hours'][i]\n",
        "\n",
        "    if isinstance(value, str) and '-' in value:\n",
        "        start, end = value.split('-')\n",
        "        df['Work/Study Hours'][i] = (int(start.strip()) + int(end.strip())) / 2\n",
        "    elif isinstance(value, str):\n",
        "        df['Work/Study Hours'][i] = int(value.split()[0])"
      ],
      "metadata": {
        "id": "hiOBNj7BAlie"
      },
      "execution_count": 35,
      "outputs": []
    },
    {
      "cell_type": "code",
      "source": [
        "label_encoder = LabelEncoder()\n",
        "df['Gender'] = label_encoder.fit_transform(df['Gender'])"
      ],
      "metadata": {
        "id": "zq5ouhTOE-E7"
      },
      "execution_count": 46,
      "outputs": []
    },
    {
      "cell_type": "code",
      "source": [
        "X = df.drop(columns=['id', 'Depression'])\n",
        "y = df['Depression']\n",
        "\n",
        "X = X.apply(pd.to_numeric, errors='coerce')\n",
        "\n",
        "print(X.isna().sum())\n",
        "\n",
        "imputer = SimpleImputer(strategy='mean')\n",
        "X_imputed = imputer.fit_transform(X)\n",
        "X_train, X_test, y_train, y_test = train_test_split(X_imputed, y, test_size=0.2, random_state=42)"
      ],
      "metadata": {
        "colab": {
          "base_uri": "https://localhost:8080/"
        },
        "id": "TqmLOuZ2FnEC",
        "outputId": "3c8bc400-92cb-4cf1-cb0a-a2a235f7145f"
      },
      "execution_count": 47,
      "outputs": [
        {
          "output_type": "stream",
          "name": "stdout",
          "text": [
            "Gender               0\n",
            "Age                  0\n",
            "Academic Pressure    0\n",
            "Work Pressure        0\n",
            "CGPA                 0\n",
            "                    ..\n",
            "Degree_ME            0\n",
            "Degree_MHM           0\n",
            "Degree_MSc           0\n",
            "Degree_Others        0\n",
            "Degree_PhD           0\n",
            "Length: 104, dtype: int64\n"
          ]
        },
        {
          "output_type": "stream",
          "name": "stderr",
          "text": [
            "/usr/local/lib/python3.10/dist-packages/sklearn/impute/_base.py:635: UserWarning: Skipping features without any observed values: ['Sleep Duration' 'Dietary Habits' 'Have you ever had suicidal thoughts ?'\n",
            " 'Family History of Mental Illness']. At least one non-missing value is needed for imputation with strategy='mean'.\n",
            "  warnings.warn(\n"
          ]
        }
      ]
    },
    {
      "cell_type": "code",
      "source": [
        "scaler = StandardScaler()\n",
        "X_train_scaled = scaler.fit_transform(X_train)\n",
        "X_test_scaled = scaler.transform(X_test)"
      ],
      "metadata": {
        "id": "7b4QRjfPEPDj"
      },
      "execution_count": 48,
      "outputs": []
    },
    {
      "cell_type": "markdown",
      "source": [
        "**Logistic Regression Model**"
      ],
      "metadata": {
        "id": "qdBKv5oEAysj"
      }
    },
    {
      "cell_type": "code",
      "source": [
        "logreg = LogisticRegression()\n",
        "logreg.fit(X_train, y_train)\n",
        "y_pred_logreg = logreg.predict(X_test)\n",
        "\n",
        "#Regression\n",
        "accuracy_logreg = accuracy_score(y_test, y_pred_logreg)\n",
        "precision_logreg = precision_score(y_test, y_pred_logreg)\n",
        "recall_logreg = recall_score(y_test, y_pred_logreg)\n",
        "f1_logreg = f1_score(y_test, y_pred_logreg)\n",
        "\n",
        "print(f\"Accuracy: {accuracy_logreg}\")\n",
        "print(f\"Precision: {precision_logreg}\")\n",
        "print(f\"Recall: {recall_logreg}\")\n",
        "print(f\"F1-Score: {f1_logreg}\")\n"
      ],
      "metadata": {
        "colab": {
          "base_uri": "https://localhost:8080/"
        },
        "id": "20ccbg_sAuGc",
        "outputId": "fb28ef17-ec3c-45ec-a58a-de67fe40d8d8"
      },
      "execution_count": 51,
      "outputs": [
        {
          "output_type": "stream",
          "name": "stdout",
          "text": [
            "Accuracy: 0.7831929761691453\n",
            "Precision: 0.7987625220978197\n",
            "Recall: 0.8372452130945027\n",
            "F1-Score: 0.8175512665862484\n"
          ]
        },
        {
          "output_type": "stream",
          "name": "stderr",
          "text": [
            "/usr/local/lib/python3.10/dist-packages/sklearn/linear_model/_logistic.py:465: ConvergenceWarning: lbfgs failed to converge (status=1):\n",
            "STOP: TOTAL NO. of ITERATIONS REACHED LIMIT.\n",
            "\n",
            "Increase the number of iterations (max_iter) or scale the data as shown in:\n",
            "    https://scikit-learn.org/stable/modules/preprocessing.html\n",
            "Please also refer to the documentation for alternative solver options:\n",
            "    https://scikit-learn.org/stable/modules/linear_model.html#logistic-regression\n",
            "  n_iter_i = _check_optimize_result(\n"
          ]
        }
      ]
    },
    {
      "cell_type": "markdown",
      "source": [
        "**Naive Bayes Model**"
      ],
      "metadata": {
        "id": "209lc2V_A97s"
      }
    },
    {
      "cell_type": "code",
      "source": [
        "nb = GaussianNB()\n",
        "nb.fit(X_train, y_train)\n",
        "y_pred_nb = nb.predict(X_test)\n",
        "\n",
        "#Naive Bayes\n",
        "accuracy_nb = accuracy_score(y_test, y_pred_nb)\n",
        "precision_nb = precision_score(y_test, y_pred_nb)\n",
        "recall_nb = recall_score(y_test, y_pred_nb)\n",
        "f1_nb = f1_score(y_test, y_pred_nb)\n",
        "\n",
        "print(f\"Accuracy: {accuracy_nb}\")\n",
        "print(f\"Precision: {precision_nb}\")\n",
        "print(f\"Recall: {recall_nb}\")\n",
        "print(f\"F1-Score: {f1_nb}\")"
      ],
      "metadata": {
        "colab": {
          "base_uri": "https://localhost:8080/"
        },
        "id": "r87kYlepBFCG",
        "outputId": "b36ac92d-43fb-45c0-efab-37042d5d3e42"
      },
      "execution_count": 54,
      "outputs": [
        {
          "output_type": "stream",
          "name": "stdout",
          "text": [
            "Accuracy: 0.42089231320551873\n",
            "Precision: 0.875\n",
            "Recall: 0.0021618282890673254\n",
            "F1-Score: 0.004313000616142945\n"
          ]
        }
      ]
    },
    {
      "cell_type": "markdown",
      "source": [
        "**K-Nearest Neighbors Model**"
      ],
      "metadata": {
        "id": "TApsNs1UBJnE"
      }
    },
    {
      "cell_type": "code",
      "source": [
        "knn = KNeighborsClassifier()\n",
        "knn.fit(X_train, y_train)\n",
        "y_pred_knn = knn.predict(X_test)\n",
        "\n",
        "#KNN\n",
        "accuracy_knn = accuracy_score(y_test, y_pred_knn)\n",
        "precision_knn = precision_score(y_test, y_pred_knn)\n",
        "recall_knn = recall_score(y_test, y_pred_knn)\n",
        "f1_knn = f1_score(y_test, y_pred_knn)\n",
        "\n",
        "print(f\"Accuracy: {accuracy_knn}\")\n",
        "print(f\"Precision: {precision_knn}\")\n",
        "print(f\"Recall: {recall_knn}\")\n",
        "print(f\"F1-Score: {f1_knn}\")"
      ],
      "metadata": {
        "colab": {
          "base_uri": "https://localhost:8080/"
        },
        "id": "VSBsSxbNBQw6",
        "outputId": "4be8071e-1eaf-4df2-e934-af01d60c0a87"
      },
      "execution_count": 53,
      "outputs": [
        {
          "output_type": "stream",
          "name": "stdout",
          "text": [
            "Accuracy: 0.7538075613689303\n",
            "Precision: 0.7736347621843805\n",
            "Recall: 0.8137739345274861\n",
            "F1-Score: 0.7931968693558098\n"
          ]
        }
      ]
    },
    {
      "cell_type": "markdown",
      "source": [
        "**Decision Tree Model**"
      ],
      "metadata": {
        "id": "icv2kVqiBo8U"
      }
    },
    {
      "cell_type": "code",
      "source": [
        "dt = DecisionTreeClassifier()\n",
        "dt.fit(X_train, y_train)\n",
        "y_pred_dt = dt.predict(X_test)\n",
        "\n",
        "#Decision Tree\n",
        "accuracy_dt = accuracy_score(y_test, y_pred_dt)\n",
        "precision_dt = precision_score(y_test, y_pred_dt)\n",
        "recall_dt = recall_score(y_test, y_pred_dt)\n",
        "f1_dt = f1_score(y_test, y_pred_dt)\n",
        "\n",
        "print(f\"Accuracy: {accuracy_dt}\")\n",
        "print(f\"Precision: {precision_dt}\")\n",
        "print(f\"Recall: {recall_dt}\")\n",
        "print(f\"F1-Score: {f1_dt}\")"
      ],
      "metadata": {
        "colab": {
          "base_uri": "https://localhost:8080/"
        },
        "id": "gfuq1CJkBqwh",
        "outputId": "ad79489e-98f3-4b65-f010-23562085cf2d"
      },
      "execution_count": 55,
      "outputs": [
        {
          "output_type": "stream",
          "name": "stdout",
          "text": [
            "Accuracy: 0.6930657588245834\n",
            "Precision: 0.731130645650197\n",
            "Recall: 0.7449042618900555\n",
            "F1-Score: 0.7379531895364846\n"
          ]
        }
      ]
    },
    {
      "cell_type": "markdown",
      "source": [
        "**Support Vector Classifier Model**"
      ],
      "metadata": {
        "id": "bUXD0xJDBv2M"
      }
    },
    {
      "cell_type": "code",
      "source": [
        "svc = SVC()\n",
        "svc.fit(X_train, y_train)\n",
        "y_pred_svc = svc.predict(X_test)\n",
        "\n",
        "#SVC\n",
        "accuracy_svc = accuracy_score(y_test, y_pred_svc)\n",
        "precision_svc = precision_score(y_test, y_pred_svc)\n",
        "recall_svc = recall_score(y_test, y_pred_svc)\n",
        "f1_svc = f1_score(y_test, y_pred_svc)\n",
        "\n",
        "print(f\"Accuracy: {accuracy_svc}\")\n",
        "print(f\"Precision: {precision_svc}\")\n",
        "print(f\"Recall: {recall_svc}\")\n",
        "print(f\"F1-Score: {f1_svc}\")"
      ],
      "metadata": {
        "colab": {
          "base_uri": "https://localhost:8080/"
        },
        "id": "qexgn4bnB2WA",
        "outputId": "b4e0b529-2669-44eb-b309-4a3bb19e5f36"
      },
      "execution_count": 56,
      "outputs": [
        {
          "output_type": "stream",
          "name": "stdout",
          "text": [
            "Accuracy: 0.7865973839813654\n",
            "Precision: 0.7995317529997074\n",
            "Recall: 0.8437306979617047\n",
            "F1-Score: 0.8210368144252442\n"
          ]
        }
      ]
    }
  ]
}