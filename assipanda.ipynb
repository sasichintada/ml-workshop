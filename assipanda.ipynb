{
  "nbformat": 4,
  "nbformat_minor": 0,
  "metadata": {
    "colab": {
      "provenance": [],
      "authorship_tag": "ABX9TyMhQBKbmS7pbXoU2C1W855O",
      "include_colab_link": true
    },
    "kernelspec": {
      "name": "python3",
      "display_name": "Python 3"
    },
    "language_info": {
      "name": "python"
    }
  },
  "cells": [
    {
      "cell_type": "markdown",
      "metadata": {
        "id": "view-in-github",
        "colab_type": "text"
      },
      "source": [
        "<a href=\"https://colab.research.google.com/github/sasichintada/ml-workshop/blob/main/assipanda.ipynb\" target=\"_parent\"><img src=\"https://colab.research.google.com/assets/colab-badge.svg\" alt=\"Open In Colab\"/></a>"
      ]
    },
    {
      "cell_type": "code",
      "execution_count": 1,
      "metadata": {
        "id": "HovQGLpBHhsz"
      },
      "outputs": [],
      "source": [
        "import pandas as pd"
      ]
    },
    {
      "cell_type": "markdown",
      "source": [
        "Create a Pandas DataFrame from the following dictionary:\n",
        "data = {\n",
        " 'Name': ['Alice', 'Bob', 'Carol'],\n",
        " 'Age': [24, 27, 22],\n",
        " 'Salary': [50000, 55000, 48000]\n",
        "}\n",
        " Add a new column called Bonus which is 10% of the salary."
      ],
      "metadata": {
        "id": "QVnpkncKHsGK"
      }
    },
    {
      "cell_type": "code",
      "source": [
        "data={\n",
        "    'Name':['Alice','Bob','Carol'],\n",
        "    'Age':[24,27,22],\n",
        "    'Salary':[50000,55000,48000]\n",
        "}\n",
        "df=pd.DataFrame(data)\n",
        "df['Bonus']=df['Salary']*0.1\n",
        "print(df)"
      ],
      "metadata": {
        "colab": {
          "base_uri": "https://localhost:8080/"
        },
        "id": "3iTcN2cfHv7s",
        "outputId": "53740f07-d210-4c88-d1ad-bfa2ee082f2e"
      },
      "execution_count": 3,
      "outputs": [
        {
          "output_type": "stream",
          "name": "stdout",
          "text": [
            "    Name  Age  Salary   Bonus\n",
            "0  Alice   24   50000  5000.0\n",
            "1    Bob   27   55000  5500.0\n",
            "2  Carol   22   48000  4800.0\n"
          ]
        }
      ]
    },
    {
      "cell_type": "markdown",
      "source": [
        "Given the DataFrame created in the above question:\n",
        "• Display the first two rows.\n",
        "• Compute the mean salary"
      ],
      "metadata": {
        "id": "sq3Iw0cUIfKe"
      }
    },
    {
      "cell_type": "code",
      "source": [
        "rows=df.head(2)\n",
        "print(rows)"
      ],
      "metadata": {
        "colab": {
          "base_uri": "https://localhost:8080/"
        },
        "id": "1qVYGwGgIjRv",
        "outputId": "35c50324-2a8b-4a35-db06-fc8959a100e2"
      },
      "execution_count": 4,
      "outputs": [
        {
          "output_type": "stream",
          "name": "stdout",
          "text": [
            "    Name  Age  Salary   Bonus\n",
            "0  Alice   24   50000  5000.0\n",
            "1    Bob   27   55000  5500.0\n"
          ]
        }
      ]
    },
    {
      "cell_type": "code",
      "source": [
        "mean=df['Salary'].mean()\n",
        "print(mean)"
      ],
      "metadata": {
        "colab": {
          "base_uri": "https://localhost:8080/"
        },
        "id": "wmzwU_IEIv90",
        "outputId": "7492bb77-4da1-4160-b5e4-88b4643e5fe7"
      },
      "execution_count": 5,
      "outputs": [
        {
          "output_type": "stream",
          "name": "stdout",
          "text": [
            "51000.0\n"
          ]
        }
      ]
    },
    {
      "cell_type": "markdown",
      "source": [
        " Using the same DataFrame:\n",
        "• Extract all rows where the Age is greater than 25.\n",
        "• Filter out rows where the Salary is less than 50000.\n"
      ],
      "metadata": {
        "id": "aZlRk0RTI3aQ"
      }
    },
    {
      "cell_type": "code",
      "source": [
        "age=df[df['Age']>25]\n",
        "print(age)"
      ],
      "metadata": {
        "colab": {
          "base_uri": "https://localhost:8080/"
        },
        "id": "vKyHPvadJGKc",
        "outputId": "60a9fac5-ab49-42d7-d82e-9ad28c8d147b"
      },
      "execution_count": 6,
      "outputs": [
        {
          "output_type": "stream",
          "name": "stdout",
          "text": [
            "  Name  Age  Salary   Bonus\n",
            "1  Bob   27   55000  5500.0\n"
          ]
        }
      ]
    },
    {
      "cell_type": "code",
      "source": [
        "salary=df[df['Salary']<50000]\n",
        "print(salary)"
      ],
      "metadata": {
        "colab": {
          "base_uri": "https://localhost:8080/"
        },
        "id": "MfwA0nEXI_Zo",
        "outputId": "d2f92742-399b-4412-ab4b-91a9c0d22f94"
      },
      "execution_count": 7,
      "outputs": [
        {
          "output_type": "stream",
          "name": "stdout",
          "text": [
            "    Name  Age  Salary   Bonus\n",
            "2  Carol   22   48000  4800.0\n"
          ]
        }
      ]
    },
    {
      "cell_type": "markdown",
      "source": [
        "Create the following DataFrame:\n",
        "data = {\n",
        " 'A': [1, 2, None, 4],\n",
        " 'B': [None, 2, 3, None],\n",
        " 'C': [1, 2, 3, 4]\n",
        "}\n",
        "df = pd.DataFrame(data)\n",
        "• Fill missing values in column A with the mean of the column.\n",
        "• Drop rows where all values are None.\n"
      ],
      "metadata": {
        "id": "MEHqopNEJek7"
      }
    },
    {
      "cell_type": "code",
      "source": [
        "data={\n",
        "    'A':[1,2,None,4],\n",
        "    'B':[None,2,3,None],\n",
        "    'C':[1,2,3,4]\n",
        "}\n",
        "df=pd.DataFrame(data)\n",
        "df['A']=df['A'].fillna(df['A'].mean())\n",
        "df=df.dropna()\n",
        "print(df)"
      ],
      "metadata": {
        "colab": {
          "base_uri": "https://localhost:8080/"
        },
        "id": "UQfm-zmpJo7c",
        "outputId": "ad9f124e-6e9c-44bd-eff0-28ca549f8475"
      },
      "execution_count": 13,
      "outputs": [
        {
          "output_type": "stream",
          "name": "stdout",
          "text": [
            "          A    B  C\n",
            "1  2.000000  2.0  2\n",
            "2  2.333333  3.0  3\n"
          ]
        }
      ]
    },
    {
      "cell_type": "markdown",
      "source": [
        "Create a DataFrame for employees:\n",
        "data = {\n",
        " 'Department': ['HR', 'HR', 'IT', 'IT', 'Finance'],\n",
        " 'Employee': ['Alice', 'Bob', 'Carol', 'David', 'Eve'],\n",
        " 'Salary': [50000, 45000, 60000, 65000, 70000]\n",
        "}\n",
        "• Group the data by Department and compute the total and mean salary for each\n",
        "department."
      ],
      "metadata": {
        "id": "8d1mdEtvLf5T"
      }
    },
    {
      "cell_type": "code",
      "source": [
        "data={\n",
        "    'Department':['HR','HR','IT','IT','Finance'],\n",
        "    'Employee':['Alice','Bob','Carol','David','Eve'],\n",
        "    'Salary':[50000,45000,60000,65000,70000]\n",
        "}\n",
        "df=pd.DataFrame(data)\n",
        "grouped=df.groupby('Department')\n",
        "total=grouped['Salary'].sum()\n",
        "mean=grouped['Salary'].mean()\n",
        "print('total salary:')\n",
        "print(total)\n",
        "print('mean salary:')\n",
        "print(mean)"
      ],
      "metadata": {
        "colab": {
          "base_uri": "https://localhost:8080/"
        },
        "id": "lJd407r8LkGd",
        "outputId": "d8c34ef8-8af5-47fb-ea2d-b82c60c66d3c"
      },
      "execution_count": 11,
      "outputs": [
        {
          "output_type": "stream",
          "name": "stdout",
          "text": [
            "total salary:\n",
            "Department\n",
            "Finance     70000\n",
            "HR          95000\n",
            "IT         125000\n",
            "Name: Salary, dtype: int64\n",
            "mean salary:\n",
            "Department\n",
            "Finance    70000.0\n",
            "HR         47500.0\n",
            "IT         62500.0\n",
            "Name: Salary, dtype: float64\n"
          ]
        }
      ]
    },
    {
      "cell_type": "markdown",
      "source": [
        ". Given two DataFrames:\n",
        "df1 = pd.DataFrame({'ID': [1, 2, 3], 'Name': ['Alice', 'Bob', 'Carol']})\n",
        "df2 = pd.DataFrame({'ID': [2, 3, 4], 'Age': [25, 30, 22]})\n",
        "• Perform an inner join on the ID column.\n"
      ],
      "metadata": {
        "id": "BlG2KP9MObla"
      }
    },
    {
      "cell_type": "code",
      "source": [
        "df1=pd.DataFrame({'ID':[1,2,3],'Name':['Alice','Bob','Carol']})\n",
        "df2=pd.DataFrame({'ID':[2,3,4],'Age':[25,30,22]})\n",
        "innerjoin=pd.merge(df1, df2, on='ID')\n",
        "print(innerjoin)"
      ],
      "metadata": {
        "colab": {
          "base_uri": "https://localhost:8080/"
        },
        "id": "0Icrd5e8OizY",
        "outputId": "75d03024-ba78-40a8-a7ee-8a02e4191719"
      },
      "execution_count": 24,
      "outputs": [
        {
          "output_type": "stream",
          "name": "stdout",
          "text": [
            "   ID   Name  Age\n",
            "0   2    Bob   25\n",
            "1   3  Carol   30\n"
          ]
        }
      ]
    },
    {
      "cell_type": "markdown",
      "source": [
        "Given a small dataset, clean and display basic statistics using Pandas"
      ],
      "metadata": {
        "id": "wzSaB6e7Q8Wx"
      }
    },
    {
      "cell_type": "code",
      "source": [
        "data = {\n",
        "    'Name': ['John', 'Alice', 'Joseph', 'Alex'],\n",
        "    'English': [64, 78, 68, 58],\n",
        "    'Maths': [76, 54, 72, 64]\n",
        "}\n",
        "\n",
        "df = pd.DataFrame(data)\n",
        "df.describe()"
      ],
      "metadata": {
        "colab": {
          "base_uri": "https://localhost:8080/",
          "height": 300
        },
        "id": "QQe1kGhNRCJW",
        "outputId": "62928874-8ad7-422f-ddde-27461db0669a"
      },
      "execution_count": 14,
      "outputs": [
        {
          "output_type": "execute_result",
          "data": {
            "text/plain": [
              "         English      Maths\n",
              "count   4.000000   4.000000\n",
              "mean   67.000000  66.500000\n",
              "std     8.406347   9.712535\n",
              "min    58.000000  54.000000\n",
              "25%    62.500000  61.500000\n",
              "50%    66.000000  68.000000\n",
              "75%    70.500000  73.000000\n",
              "max    78.000000  76.000000"
            ],
            "text/html": [
              "\n",
              "  <div id=\"df-ddc8c743-bbe8-4b4a-80ed-52ab1f9a0a93\" class=\"colab-df-container\">\n",
              "    <div>\n",
              "<style scoped>\n",
              "    .dataframe tbody tr th:only-of-type {\n",
              "        vertical-align: middle;\n",
              "    }\n",
              "\n",
              "    .dataframe tbody tr th {\n",
              "        vertical-align: top;\n",
              "    }\n",
              "\n",
              "    .dataframe thead th {\n",
              "        text-align: right;\n",
              "    }\n",
              "</style>\n",
              "<table border=\"1\" class=\"dataframe\">\n",
              "  <thead>\n",
              "    <tr style=\"text-align: right;\">\n",
              "      <th></th>\n",
              "      <th>English</th>\n",
              "      <th>Maths</th>\n",
              "    </tr>\n",
              "  </thead>\n",
              "  <tbody>\n",
              "    <tr>\n",
              "      <th>count</th>\n",
              "      <td>4.000000</td>\n",
              "      <td>4.000000</td>\n",
              "    </tr>\n",
              "    <tr>\n",
              "      <th>mean</th>\n",
              "      <td>67.000000</td>\n",
              "      <td>66.500000</td>\n",
              "    </tr>\n",
              "    <tr>\n",
              "      <th>std</th>\n",
              "      <td>8.406347</td>\n",
              "      <td>9.712535</td>\n",
              "    </tr>\n",
              "    <tr>\n",
              "      <th>min</th>\n",
              "      <td>58.000000</td>\n",
              "      <td>54.000000</td>\n",
              "    </tr>\n",
              "    <tr>\n",
              "      <th>25%</th>\n",
              "      <td>62.500000</td>\n",
              "      <td>61.500000</td>\n",
              "    </tr>\n",
              "    <tr>\n",
              "      <th>50%</th>\n",
              "      <td>66.000000</td>\n",
              "      <td>68.000000</td>\n",
              "    </tr>\n",
              "    <tr>\n",
              "      <th>75%</th>\n",
              "      <td>70.500000</td>\n",
              "      <td>73.000000</td>\n",
              "    </tr>\n",
              "    <tr>\n",
              "      <th>max</th>\n",
              "      <td>78.000000</td>\n",
              "      <td>76.000000</td>\n",
              "    </tr>\n",
              "  </tbody>\n",
              "</table>\n",
              "</div>\n",
              "    <div class=\"colab-df-buttons\">\n",
              "\n",
              "  <div class=\"colab-df-container\">\n",
              "    <button class=\"colab-df-convert\" onclick=\"convertToInteractive('df-ddc8c743-bbe8-4b4a-80ed-52ab1f9a0a93')\"\n",
              "            title=\"Convert this dataframe to an interactive table.\"\n",
              "            style=\"display:none;\">\n",
              "\n",
              "  <svg xmlns=\"http://www.w3.org/2000/svg\" height=\"24px\" viewBox=\"0 -960 960 960\">\n",
              "    <path d=\"M120-120v-720h720v720H120Zm60-500h600v-160H180v160Zm220 220h160v-160H400v160Zm0 220h160v-160H400v160ZM180-400h160v-160H180v160Zm440 0h160v-160H620v160ZM180-180h160v-160H180v160Zm440 0h160v-160H620v160Z\"/>\n",
              "  </svg>\n",
              "    </button>\n",
              "\n",
              "  <style>\n",
              "    .colab-df-container {\n",
              "      display:flex;\n",
              "      gap: 12px;\n",
              "    }\n",
              "\n",
              "    .colab-df-convert {\n",
              "      background-color: #E8F0FE;\n",
              "      border: none;\n",
              "      border-radius: 50%;\n",
              "      cursor: pointer;\n",
              "      display: none;\n",
              "      fill: #1967D2;\n",
              "      height: 32px;\n",
              "      padding: 0 0 0 0;\n",
              "      width: 32px;\n",
              "    }\n",
              "\n",
              "    .colab-df-convert:hover {\n",
              "      background-color: #E2EBFA;\n",
              "      box-shadow: 0px 1px 2px rgba(60, 64, 67, 0.3), 0px 1px 3px 1px rgba(60, 64, 67, 0.15);\n",
              "      fill: #174EA6;\n",
              "    }\n",
              "\n",
              "    .colab-df-buttons div {\n",
              "      margin-bottom: 4px;\n",
              "    }\n",
              "\n",
              "    [theme=dark] .colab-df-convert {\n",
              "      background-color: #3B4455;\n",
              "      fill: #D2E3FC;\n",
              "    }\n",
              "\n",
              "    [theme=dark] .colab-df-convert:hover {\n",
              "      background-color: #434B5C;\n",
              "      box-shadow: 0px 1px 3px 1px rgba(0, 0, 0, 0.15);\n",
              "      filter: drop-shadow(0px 1px 2px rgba(0, 0, 0, 0.3));\n",
              "      fill: #FFFFFF;\n",
              "    }\n",
              "  </style>\n",
              "\n",
              "    <script>\n",
              "      const buttonEl =\n",
              "        document.querySelector('#df-ddc8c743-bbe8-4b4a-80ed-52ab1f9a0a93 button.colab-df-convert');\n",
              "      buttonEl.style.display =\n",
              "        google.colab.kernel.accessAllowed ? 'block' : 'none';\n",
              "\n",
              "      async function convertToInteractive(key) {\n",
              "        const element = document.querySelector('#df-ddc8c743-bbe8-4b4a-80ed-52ab1f9a0a93');\n",
              "        const dataTable =\n",
              "          await google.colab.kernel.invokeFunction('convertToInteractive',\n",
              "                                                    [key], {});\n",
              "        if (!dataTable) return;\n",
              "\n",
              "        const docLinkHtml = 'Like what you see? Visit the ' +\n",
              "          '<a target=\"_blank\" href=https://colab.research.google.com/notebooks/data_table.ipynb>data table notebook</a>'\n",
              "          + ' to learn more about interactive tables.';\n",
              "        element.innerHTML = '';\n",
              "        dataTable['output_type'] = 'display_data';\n",
              "        await google.colab.output.renderOutput(dataTable, element);\n",
              "        const docLink = document.createElement('div');\n",
              "        docLink.innerHTML = docLinkHtml;\n",
              "        element.appendChild(docLink);\n",
              "      }\n",
              "    </script>\n",
              "  </div>\n",
              "\n",
              "\n",
              "<div id=\"df-504951c1-c762-41b9-8295-51ef47137a96\">\n",
              "  <button class=\"colab-df-quickchart\" onclick=\"quickchart('df-504951c1-c762-41b9-8295-51ef47137a96')\"\n",
              "            title=\"Suggest charts\"\n",
              "            style=\"display:none;\">\n",
              "\n",
              "<svg xmlns=\"http://www.w3.org/2000/svg\" height=\"24px\"viewBox=\"0 0 24 24\"\n",
              "     width=\"24px\">\n",
              "    <g>\n",
              "        <path d=\"M19 3H5c-1.1 0-2 .9-2 2v14c0 1.1.9 2 2 2h14c1.1 0 2-.9 2-2V5c0-1.1-.9-2-2-2zM9 17H7v-7h2v7zm4 0h-2V7h2v10zm4 0h-2v-4h2v4z\"/>\n",
              "    </g>\n",
              "</svg>\n",
              "  </button>\n",
              "\n",
              "<style>\n",
              "  .colab-df-quickchart {\n",
              "      --bg-color: #E8F0FE;\n",
              "      --fill-color: #1967D2;\n",
              "      --hover-bg-color: #E2EBFA;\n",
              "      --hover-fill-color: #174EA6;\n",
              "      --disabled-fill-color: #AAA;\n",
              "      --disabled-bg-color: #DDD;\n",
              "  }\n",
              "\n",
              "  [theme=dark] .colab-df-quickchart {\n",
              "      --bg-color: #3B4455;\n",
              "      --fill-color: #D2E3FC;\n",
              "      --hover-bg-color: #434B5C;\n",
              "      --hover-fill-color: #FFFFFF;\n",
              "      --disabled-bg-color: #3B4455;\n",
              "      --disabled-fill-color: #666;\n",
              "  }\n",
              "\n",
              "  .colab-df-quickchart {\n",
              "    background-color: var(--bg-color);\n",
              "    border: none;\n",
              "    border-radius: 50%;\n",
              "    cursor: pointer;\n",
              "    display: none;\n",
              "    fill: var(--fill-color);\n",
              "    height: 32px;\n",
              "    padding: 0;\n",
              "    width: 32px;\n",
              "  }\n",
              "\n",
              "  .colab-df-quickchart:hover {\n",
              "    background-color: var(--hover-bg-color);\n",
              "    box-shadow: 0 1px 2px rgba(60, 64, 67, 0.3), 0 1px 3px 1px rgba(60, 64, 67, 0.15);\n",
              "    fill: var(--button-hover-fill-color);\n",
              "  }\n",
              "\n",
              "  .colab-df-quickchart-complete:disabled,\n",
              "  .colab-df-quickchart-complete:disabled:hover {\n",
              "    background-color: var(--disabled-bg-color);\n",
              "    fill: var(--disabled-fill-color);\n",
              "    box-shadow: none;\n",
              "  }\n",
              "\n",
              "  .colab-df-spinner {\n",
              "    border: 2px solid var(--fill-color);\n",
              "    border-color: transparent;\n",
              "    border-bottom-color: var(--fill-color);\n",
              "    animation:\n",
              "      spin 1s steps(1) infinite;\n",
              "  }\n",
              "\n",
              "  @keyframes spin {\n",
              "    0% {\n",
              "      border-color: transparent;\n",
              "      border-bottom-color: var(--fill-color);\n",
              "      border-left-color: var(--fill-color);\n",
              "    }\n",
              "    20% {\n",
              "      border-color: transparent;\n",
              "      border-left-color: var(--fill-color);\n",
              "      border-top-color: var(--fill-color);\n",
              "    }\n",
              "    30% {\n",
              "      border-color: transparent;\n",
              "      border-left-color: var(--fill-color);\n",
              "      border-top-color: var(--fill-color);\n",
              "      border-right-color: var(--fill-color);\n",
              "    }\n",
              "    40% {\n",
              "      border-color: transparent;\n",
              "      border-right-color: var(--fill-color);\n",
              "      border-top-color: var(--fill-color);\n",
              "    }\n",
              "    60% {\n",
              "      border-color: transparent;\n",
              "      border-right-color: var(--fill-color);\n",
              "    }\n",
              "    80% {\n",
              "      border-color: transparent;\n",
              "      border-right-color: var(--fill-color);\n",
              "      border-bottom-color: var(--fill-color);\n",
              "    }\n",
              "    90% {\n",
              "      border-color: transparent;\n",
              "      border-bottom-color: var(--fill-color);\n",
              "    }\n",
              "  }\n",
              "</style>\n",
              "\n",
              "  <script>\n",
              "    async function quickchart(key) {\n",
              "      const quickchartButtonEl =\n",
              "        document.querySelector('#' + key + ' button');\n",
              "      quickchartButtonEl.disabled = true;  // To prevent multiple clicks.\n",
              "      quickchartButtonEl.classList.add('colab-df-spinner');\n",
              "      try {\n",
              "        const charts = await google.colab.kernel.invokeFunction(\n",
              "            'suggestCharts', [key], {});\n",
              "      } catch (error) {\n",
              "        console.error('Error during call to suggestCharts:', error);\n",
              "      }\n",
              "      quickchartButtonEl.classList.remove('colab-df-spinner');\n",
              "      quickchartButtonEl.classList.add('colab-df-quickchart-complete');\n",
              "    }\n",
              "    (() => {\n",
              "      let quickchartButtonEl =\n",
              "        document.querySelector('#df-504951c1-c762-41b9-8295-51ef47137a96 button');\n",
              "      quickchartButtonEl.style.display =\n",
              "        google.colab.kernel.accessAllowed ? 'block' : 'none';\n",
              "    })();\n",
              "  </script>\n",
              "</div>\n",
              "\n",
              "    </div>\n",
              "  </div>\n"
            ],
            "application/vnd.google.colaboratory.intrinsic+json": {
              "type": "dataframe",
              "summary": "{\n  \"name\": \"df\",\n  \"rows\": 8,\n  \"fields\": [\n    {\n      \"column\": \"English\",\n      \"properties\": {\n        \"dtype\": \"number\",\n        \"std\": 28.7590709472909,\n        \"min\": 4.0,\n        \"max\": 78.0,\n        \"num_unique_values\": 8,\n        \"samples\": [\n          67.0,\n          66.0,\n          4.0\n        ],\n        \"semantic_type\": \"\",\n        \"description\": \"\"\n      }\n    },\n    {\n      \"column\": \"Maths\",\n      \"properties\": {\n        \"dtype\": \"number\",\n        \"std\": 28.45642980292671,\n        \"min\": 4.0,\n        \"max\": 76.0,\n        \"num_unique_values\": 8,\n        \"samples\": [\n          66.5,\n          68.0,\n          4.0\n        ],\n        \"semantic_type\": \"\",\n        \"description\": \"\"\n      }\n    }\n  ]\n}"
            }
          },
          "metadata": {},
          "execution_count": 14
        }
      ]
    },
    {
      "cell_type": "markdown",
      "source": [
        "small EDA task\n",
        "• Load the Titanic dataset (titanic.csv) into a Pandas DataFrame.\n",
        "• Perform the following tasks:\n",
        "o Display the number of missing values in each column.\n",
        "o Find the average age of passengers.\n",
        "o Create a bar plot to show the survival rate based on gender."
      ],
      "metadata": {
        "id": "5zdb1f9bRsUZ"
      }
    },
    {
      "cell_type": "code",
      "source": [
        "data=pd.read_csv('/content/Titanic-Dataset.csv')\n",
        "missing_values=data.isnull().sum()\n",
        "print(missing_values)\n",
        "average_age = data['Age'].mean()\n",
        "print(average_age)\n",
        "\n",
        "import matplotlib.pyplot as plt\n",
        "survival_rate=data.groupby('Sex')['Survived'].mean()\n",
        "survival_rate.plot(kind='bar')\n",
        "plt.xlabel('Gender')\n",
        "plt.ylabel('Survival Rate')\n",
        "plt.title('Survival Rate')\n",
        "plt.show()"
      ],
      "metadata": {
        "colab": {
          "base_uri": "https://localhost:8080/",
          "height": 749
        },
        "id": "NtEMlrF8S1b0",
        "outputId": "a2b02706-3f89-4379-8d3c-594b4cd122ec"
      },
      "execution_count": 22,
      "outputs": [
        {
          "output_type": "stream",
          "name": "stdout",
          "text": [
            "PassengerId      0\n",
            "Survived         0\n",
            "Pclass           0\n",
            "Name             0\n",
            "Sex              0\n",
            "Age            177\n",
            "SibSp            0\n",
            "Parch            0\n",
            "Ticket           0\n",
            "Fare             0\n",
            "Cabin          687\n",
            "Embarked         2\n",
            "dtype: int64\n",
            "29.69911764705882\n"
          ]
        },
        {
          "output_type": "display_data",
          "data": {
            "text/plain": [
              "<Figure size 640x480 with 1 Axes>"
            ],
            "image/png": "[encoded data removed]"
          },
          "metadata": {}
        }
      ]
    },
    {
      "cell_type": "markdown",
      "source": [
        "Data Transformation\n",
        "• Load a dataset containing daily temperatures and dates. Perform the following:\n",
        "o Convert the date column into a DateTime object.\n",
        "o Create a new column that categorizes temperatures into High, Medium, or\n",
        "Low"
      ],
      "metadata": {
        "id": "vbGgbEpmYcH3"
      }
    },
    {
      "cell_type": "code",
      "source": [
        "import numpy as np\n",
        "data = {\n",
        "    'Date': ['2024-01-01', '2024-01-02', '2024-01-03', '2024-01-04', '2024-01-05'],\n",
        "    'Temperature': [15, 22, 10, 30, 18]\n",
        "}\n",
        "df = pd.DataFrame(data)\n",
        "df['Date'] = pd.to_datetime(df['Date'])\n",
        "df['Temperature_Category'] = np.where(df['Temperature'] >= 25, 'High',\n",
        "                                      np.where(df['Temperature'] >= 15, 'Medium', 'Low'))\n",
        "print(df)\n",
        "\n"
      ],
      "metadata": {
        "colab": {
          "base_uri": "https://localhost:8080/"
        },
        "id": "EMbmHviLYnLN",
        "outputId": "4e8e364a-b711-43eb-e386-62e18d8fa743"
      },
      "execution_count": 23,
      "outputs": [
        {
          "output_type": "stream",
          "name": "stdout",
          "text": [
            "        Date  Temperature Temperature_Category\n",
            "0 2024-01-01           15               Medium\n",
            "1 2024-01-02           22               Medium\n",
            "2 2024-01-03           10                  Low\n",
            "3 2024-01-04           30                 High\n",
            "4 2024-01-05           18               Medium\n"
          ]
        }
      ]
    }
  ]
}