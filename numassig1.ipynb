{
  "nbformat": 4,
  "nbformat_minor": 0,
  "metadata": {
    "colab": {
      "provenance": [],
      "authorship_tag": "ABX9TyODbq5kGfhHrR10klyiJGZz",
      "include_colab_link": true
    },
    "kernelspec": {
      "name": "python3",
      "display_name": "Python 3"
    },
    "language_info": {
      "name": "python"
    }
  },
  "cells": [
    {
      "cell_type": "markdown",
      "metadata": {
        "id": "view-in-github",
        "colab_type": "text"
      },
      "source": [
        "<a href=\"https://colab.research.google.com/github/sasichintada/ml-workshop/blob/main/numassig1.ipynb\" target=\"_parent\"><img src=\"https://colab.research.google.com/assets/colab-badge.svg\" alt=\"Open In Colab\"/></a>"
      ]
    },
    {
      "cell_type": "markdown",
      "source": [
        "1.Perform arithmetic operations on NumPy arrays"
      ],
      "metadata": {
        "id": "jP2n_kFMxCHW"
      }
    },
    {
      "cell_type": "code",
      "source": [
        "import numpy as np\n"
      ],
      "metadata": {
        "id": "um8mFeD0xTXu"
      },
      "execution_count": null,
      "outputs": []
    },
    {
      "cell_type": "markdown",
      "source": [
        "##Arithmatic operations"
      ],
      "metadata": {
        "id": "U0YlXZS4yex9"
      }
    },
    {
      "cell_type": "code",
      "source": [
        "a=np.array([1,2,3])\n",
        "b=np.array([4,5,6])\n",
        "add=a+b\n",
        "sub=a-b\n",
        "mul=a*b\n",
        "div=a/b\n",
        "mod=a%b\n",
        "pow=a**2\n",
        "floor=a//b\n",
        "print(\"add=\",add)\n",
        "print(\"sub=\",sub)\n",
        "print(\"mul=\",mul)\n",
        "print(\"div=\",div)\n",
        "print(\"mod=\",mod)\n",
        "print(\"pow=\",pow)\n",
        "print(\"floor=\",floor)"
      ],
      "metadata": {
        "colab": {
          "base_uri": "https://localhost:8080/"
        },
        "id": "VOwDKiluxW3_",
        "outputId": "03ac6640-c236-496e-cdd7-168b498110d7"
      },
      "execution_count": null,
      "outputs": [
        {
          "output_type": "stream",
          "name": "stdout",
          "text": [
            "add= [5 7 9]\n",
            "sub= [-3 -3 -3]\n",
            "mul= [ 4 10 18]\n",
            "div= [0.25 0.4  0.5 ]\n",
            "mod= [1 2 3]\n",
            "pow= [1 4 9]\n",
            "floor= [0 0 0]\n"
          ]
        }
      ]
    },
    {
      "cell_type": "markdown",
      "source": [
        "2.Write a script to compute the mean and standard deviation of a NumPy array"
      ],
      "metadata": {
        "id": "TzW3_vR9yvWZ"
      }
    },
    {
      "cell_type": "markdown",
      "source": [
        "##mean and standard deviation\n"
      ],
      "metadata": {
        "id": "8YhoV61Bz2Jo"
      }
    },
    {
      "cell_type": "code",
      "source": [
        "a=np.array([2,4,6,8])\n",
        "mean=np.mean(a)\n",
        "standard=np.std(a)\n",
        "print(\"mean deviation=\",mean)\n",
        "print(\"standard deviation=\",standard)\n"
      ],
      "metadata": {
        "colab": {
          "base_uri": "https://localhost:8080/"
        },
        "id": "I3WCfhw2y0lF",
        "outputId": "12975dbf-785d-451c-e8e6-6c13fdfe148d"
      },
      "execution_count": null,
      "outputs": [
        {
          "output_type": "stream",
          "name": "stdout",
          "text": [
            "mean deviation= 5.0\n",
            "standard deviation= 2.23606797749979\n"
          ]
        }
      ]
    },
    {
      "cell_type": "markdown",
      "source": [
        "3.Create a NumPy array of integers from 10 to 50 with a step size of 5\n"
      ],
      "metadata": {
        "id": "heqG80xWz7vv"
      }
    },
    {
      "cell_type": "markdown",
      "source": [
        "##using slicing"
      ],
      "metadata": {
        "id": "HmnvZgE40LIA"
      }
    },
    {
      "cell_type": "code",
      "source": [
        "a=np.arange(10,51,5)\n",
        "print(a)"
      ],
      "metadata": {
        "colab": {
          "base_uri": "https://localhost:8080/"
        },
        "id": "JOh28BqT0HVV",
        "outputId": "5131a08e-810a-43a4-cddf-37b7d0e186a0"
      },
      "execution_count": null,
      "outputs": [
        {
          "output_type": "stream",
          "name": "stdout",
          "text": [
            "[10 15 20 25 30 35 40 45 50]\n"
          ]
        }
      ]
    },
    {
      "cell_type": "markdown",
      "source": [
        "4.Reshape the array into a 2x4 matrix"
      ],
      "metadata": {
        "id": "JD0ZP70k02kl"
      }
    },
    {
      "cell_type": "markdown",
      "source": [
        "##reshape"
      ],
      "metadata": {
        "id": "5xKmRw7R2GQ2"
      }
    },
    {
      "cell_type": "code",
      "source": [
        "a=np.arange(10,49,5)\n",
        "reshape=a.reshape(2,4)\n",
        "print(reshape)"
      ],
      "metadata": {
        "colab": {
          "base_uri": "https://localhost:8080/"
        },
        "id": "lksIbfqT07TU",
        "outputId": "eb4336ad-6d94-4814-e0d7-9edc0391fb2a"
      },
      "execution_count": null,
      "outputs": [
        {
          "output_type": "stream",
          "name": "stdout",
          "text": [
            "[[10 15 20 25]\n",
            " [30 35 40 45]]\n"
          ]
        }
      ]
    },
    {
      "cell_type": "markdown",
      "source": [
        "5.Given the array arr = np.array([[1, 2, 3], [4, 5, 6], [7, 8, 9]]) .Extract the sub-matrix containing the last two rows and first two columns.\n"
      ],
      "metadata": {
        "id": "cZJOn9dx2E6k"
      }
    },
    {
      "cell_type": "markdown",
      "source": [
        "##sub-matrix"
      ],
      "metadata": {
        "id": "9W5CV78q267G"
      }
    },
    {
      "cell_type": "code",
      "source": [
        "arr=np.array([[1,2,3],[4,5,6],[7,8,9]])\n",
        "submatrix=arr[1:,:2]\n",
        "print(submatrix)"
      ],
      "metadata": {
        "colab": {
          "base_uri": "https://localhost:8080/"
        },
        "id": "RFGgpZun2Ntp",
        "outputId": "3002c3ef-f0d7-409b-9cb4-4908e672ab8d"
      },
      "execution_count": null,
      "outputs": [
        {
          "output_type": "stream",
          "name": "stdout",
          "text": [
            "[[4 5]\n",
            " [7 8]]\n"
          ]
        }
      ]
    },
    {
      "cell_type": "markdown",
      "source": [
        "5.2Given the array arr = np.array([[1, 2, 3], [4, 5, 6], [7, 8, 9]]) Replace all elements greater than 4 with 0."
      ],
      "metadata": {
        "id": "eMeCqc2V25pA"
      }
    },
    {
      "cell_type": "code",
      "source": [
        "arr=np.array([[1,2,3],[4,5,6],[7,8,9]])\n",
        "arr[arr>4]=0\n",
        "print(arr)"
      ],
      "metadata": {
        "colab": {
          "base_uri": "https://localhost:8080/"
        },
        "id": "VszR3bs24cKU",
        "outputId": "5d365ec8-e427-4a90-c39b-6fdc43807a4a"
      },
      "execution_count": null,
      "outputs": [
        {
          "output_type": "stream",
          "name": "stdout",
          "text": [
            "[[1 2 3]\n",
            " [4 0 0]\n",
            " [0 0 0]]\n"
          ]
        }
      ]
    },
    {
      "cell_type": "markdown",
      "source": [
        "6. Create two 1D arrays: a = np.array([1, 2, 3]),b = np.array([4, 5, 6]) Perform element-wise addition, multiplication, and division.\n"
      ],
      "metadata": {
        "id": "lYjWMVYG38-5"
      }
    },
    {
      "cell_type": "markdown",
      "source": [
        "##creating two 1D arrays"
      ],
      "metadata": {
        "id": "YzhMrQUq4KX9"
      }
    },
    {
      "cell_type": "code",
      "source": [
        "a=np.array([1,2,3])\n",
        "b=np.array([4,5,6])"
      ],
      "metadata": {
        "id": "yhxhgv3T4H21"
      },
      "execution_count": null,
      "outputs": []
    },
    {
      "cell_type": "markdown",
      "source": [
        "##addition"
      ],
      "metadata": {
        "id": "zzpEhPkt4qCn"
      }
    },
    {
      "cell_type": "code",
      "source": [
        "print(a+b)\n",
        "print(np.add(a,b))"
      ],
      "metadata": {
        "colab": {
          "base_uri": "https://localhost:8080/"
        },
        "id": "YcE6t2nU4tr7",
        "outputId": "0ec66728-4ed4-4b26-8123-ba35b13cc344"
      },
      "execution_count": null,
      "outputs": [
        {
          "output_type": "stream",
          "name": "stdout",
          "text": [
            "[5 7 9]\n",
            "[5 7 9]\n"
          ]
        }
      ]
    },
    {
      "cell_type": "markdown",
      "source": [
        "##multiplication"
      ],
      "metadata": {
        "id": "TcMUXv145LaN"
      }
    },
    {
      "cell_type": "code",
      "source": [
        "print(a*b)\n",
        "print(np.multiply(a,b))"
      ],
      "metadata": {
        "colab": {
          "base_uri": "https://localhost:8080/"
        },
        "id": "j0p1NQEt5QHE",
        "outputId": "0f024114-e2e7-43a5-d418-9d7b733fa820"
      },
      "execution_count": null,
      "outputs": [
        {
          "output_type": "stream",
          "name": "stdout",
          "text": [
            "[ 4 10 18]\n",
            "[ 4 10 18]\n"
          ]
        }
      ]
    },
    {
      "cell_type": "markdown",
      "source": [
        "##division"
      ],
      "metadata": {
        "id": "y0Y5b3Zy5jbh"
      }
    },
    {
      "cell_type": "code",
      "source": [
        "print(a/b)\n",
        "print(np.divide(a,b))"
      ],
      "metadata": {
        "colab": {
          "base_uri": "https://localhost:8080/"
        },
        "id": "40MoLGHq5l_6",
        "outputId": "4b675ad3-07e5-46c6-9d4f-16081fbab751"
      },
      "execution_count": null,
      "outputs": [
        {
          "output_type": "stream",
          "name": "stdout",
          "text": [
            "[0.25 0.4  0.5 ]\n",
            "[0.25 0.4  0.5 ]\n"
          ]
        }
      ]
    },
    {
      "cell_type": "markdown",
      "source": [
        "7.Create a random NumPy array of size (4, 4)."
      ],
      "metadata": {
        "id": "-mNCGGU55wu_"
      }
    },
    {
      "cell_type": "markdown",
      "source": [
        "##Mean of each column.\n"
      ],
      "metadata": {
        "id": "4-aEp-P853pO"
      }
    },
    {
      "cell_type": "code",
      "source": [
        "a=np.random.random((4,4))\n",
        "b=np.mean(a,axis=0)\n",
        "print(b)"
      ],
      "metadata": {
        "colab": {
          "base_uri": "https://localhost:8080/"
        },
        "id": "CQuq-IOL58-P",
        "outputId": "710de7f2-62d8-4911-de57-d96d150baade"
      },
      "execution_count": null,
      "outputs": [
        {
          "output_type": "stream",
          "name": "stdout",
          "text": [
            "[0.48058423 0.22953014 0.61977496 0.55919546]\n"
          ]
        }
      ]
    },
    {
      "cell_type": "markdown",
      "source": [
        "##Maximum value of the entire array"
      ],
      "metadata": {
        "id": "A49CB1Ok7t0a"
      }
    },
    {
      "cell_type": "code",
      "source": [
        "maximum=np.max(a)\n",
        "print(maximum)"
      ],
      "metadata": {
        "colab": {
          "base_uri": "https://localhost:8080/"
        },
        "id": "1smXW_KO74wS",
        "outputId": "30f6164c-65f7-4c29-ed61-113ccccc6a9f"
      },
      "execution_count": null,
      "outputs": [
        {
          "output_type": "stream",
          "name": "stdout",
          "text": [
            "0.9868466950557844\n"
          ]
        }
      ]
    },
    {
      "cell_type": "markdown",
      "source": [
        "##Sum of all elements"
      ],
      "metadata": {
        "id": "2SdnlPQx8C8k"
      }
    },
    {
      "cell_type": "code",
      "source": [
        "soe=np.sum(a)\n",
        "print(soe)"
      ],
      "metadata": {
        "colab": {
          "base_uri": "https://localhost:8080/"
        },
        "id": "eGr3ifOm8IAD",
        "outputId": "e88cf6e4-4d77-42f6-cb84-fc70c9a7fa8b"
      },
      "execution_count": null,
      "outputs": [
        {
          "output_type": "stream",
          "name": "stdout",
          "text": [
            "7.55633911909905\n"
          ]
        }
      ]
    },
    {
      "cell_type": "markdown",
      "source": [
        "8.Given the array arr = np.array([1, 2, 3, 4]), add 10 to each element and multiply the result by 2\n"
      ],
      "metadata": {
        "id": "UgmkTK5_8QTu"
      }
    },
    {
      "cell_type": "markdown",
      "source": [
        "##add 10"
      ],
      "metadata": {
        "id": "zKCXW1GQ9GZl"
      }
    },
    {
      "cell_type": "code",
      "source": [
        "arr=np.array([1,2,3,4])\n",
        "add=arr+10\n",
        "print(\"after adding 10=\"add)"
      ],
      "metadata": {
        "id": "5FZctS658aRv"
      },
      "execution_count": null,
      "outputs": []
    },
    {
      "cell_type": "markdown",
      "source": [
        "##multiply by 2"
      ],
      "metadata": {
        "id": "Wevc6u_Y9KqW"
      }
    },
    {
      "cell_type": "code",
      "source": [
        "mul=add*2\n",
        "print(\"after mul by 2=\"mul)"
      ],
      "metadata": {
        "colab": {
          "base_uri": "https://localhost:8080/"
        },
        "id": "UiDK6BZb9cMr",
        "outputId": "7222436f-2b2e-4636-d5a5-320c672f2b24"
      },
      "execution_count": null,
      "outputs": [
        {
          "output_type": "stream",
          "name": "stdout",
          "text": [
            "[22 24 26 28]\n"
          ]
        }
      ]
    },
    {
      "cell_type": "markdown",
      "source": [
        "9.Perform advanced slicing and indexing on a 3D array.\n",
        "Create a 3D NumPy array arr of shape (3, 4, 5) with random integers ranging from 1 to 100\n"
      ],
      "metadata": {
        "id": "rrTzGz5I-zNP"
      }
    },
    {
      "cell_type": "code",
      "source": [
        "arr=np.random.randint(1,100,(3,4,5))\n",
        "print(arr)"
      ],
      "metadata": {
        "colab": {
          "base_uri": "https://localhost:8080/"
        },
        "id": "Fgni-Tk4_Ak5",
        "outputId": "defd464f-33e1-4131-ee38-862963eef85d"
      },
      "execution_count": null,
      "outputs": [
        {
          "output_type": "stream",
          "name": "stdout",
          "text": [
            "[[[35 45 82  8 19]\n",
            "  [ 2 65 57 14 41]\n",
            "  [47 51 66 37 27]\n",
            "  [ 5  9 39 36 48]]\n",
            "\n",
            " [[62 29 70 35 76]\n",
            "  [97 59 50 46 58]\n",
            "  [35 34 37 58 31]\n",
            "  [83 93 50 59 99]]\n",
            "\n",
            " [[60 51 17 26 25]\n",
            "  [68 74 16 95 82]\n",
            "  [15 76 68 18 23]\n",
            "  [ 2 80 94 80 27]]]\n"
          ]
        }
      ]
    },
    {
      "cell_type": "markdown",
      "source": [
        "####Extract the second \"layer\" (i.e., the second 2D array) in the first dimension"
      ],
      "metadata": {
        "id": "5-YY_gN2AGB1"
      }
    },
    {
      "cell_type": "code",
      "source": [
        "second=arr[1]\n",
        "print(second)"
      ],
      "metadata": {
        "colab": {
          "base_uri": "https://localhost:8080/"
        },
        "id": "4mIo_RuBAL45",
        "outputId": "4ef29bb6-3bcb-4fb7-ea8e-355f6e1910eb"
      },
      "execution_count": null,
      "outputs": [
        {
          "output_type": "stream",
          "name": "stdout",
          "text": [
            "[[62 29 70 35 76]\n",
            " [97 59 50 46 58]\n",
            " [35 34 37 58 31]\n",
            " [83 93 50 59 99]]\n"
          ]
        }
      ]
    },
    {
      "cell_type": "markdown",
      "source": [
        "###Extract the first two rows and the last three columns from each \"layer.\""
      ],
      "metadata": {
        "id": "uBu86YGrAhTg"
      }
    },
    {
      "cell_type": "code",
      "source": [
        "extract=arr[:,:2,2:5]\n",
        "print(extract)"
      ],
      "metadata": {
        "colab": {
          "base_uri": "https://localhost:8080/"
        },
        "id": "mqDw9C8dAn3N",
        "outputId": "06185609-e304-4efa-81d7-4444d88e65ec"
      },
      "execution_count": null,
      "outputs": [
        {
          "output_type": "stream",
          "name": "stdout",
          "text": [
            "[[[82  8 19]\n",
            "  [57 14 41]]\n",
            "\n",
            " [[70 35 76]\n",
            "  [50 46 58]]\n",
            "\n",
            " [[17 26 25]\n",
            "  [16 95 82]]]\n"
          ]
        }
      ]
    },
    {
      "cell_type": "markdown",
      "source": [
        "###Replace all elements divisible by 3 with -1"
      ],
      "metadata": {
        "id": "s8EFXTL8DQhA"
      }
    },
    {
      "cell_type": "code",
      "source": [
        "arr[arr%3==0]=-1\n",
        "print(arr)"
      ],
      "metadata": {
        "colab": {
          "base_uri": "https://localhost:8080/"
        },
        "id": "hV8EAdSCDWfA",
        "outputId": "2dd9c697-bf62-48dd-8a96-349cdbce7c39"
      },
      "execution_count": null,
      "outputs": [
        {
          "output_type": "stream",
          "name": "stdout",
          "text": [
            "[[[35 -1 82  8 19]\n",
            "  [ 2 65 -1 14 41]\n",
            "  [47 -1 -1 37 -1]\n",
            "  [ 5 -1 -1 -1 -1]]\n",
            "\n",
            " [[62 29 70 35 76]\n",
            "  [97 59 50 46 58]\n",
            "  [35 34 37 58 31]\n",
            "  [83 -1 50 59 -1]]\n",
            "\n",
            " [[-1 -1 17 26 25]\n",
            "  [68 74 16 95 82]\n",
            "  [-1 76 68 -1 23]\n",
            "  [ 2 80 94 80 -1]]]\n"
          ]
        }
      ]
    },
    {
      "cell_type": "markdown",
      "source": [
        "10. Work with broadcasting and advanced operations in NumPy.\n",
        " Create a NumPy array arr of shape (3, 3) with random integers between\n",
        " 1 and 20"
      ],
      "metadata": {
        "id": "hLgY4Xf_D0LA"
      }
    },
    {
      "cell_type": "code",
      "source": [
        "arr=np.random.randint(1,20,(3,3))\n",
        "print(arr)"
      ],
      "metadata": {
        "colab": {
          "base_uri": "https://localhost:8080/"
        },
        "id": "R0XiZXSsD5jY",
        "outputId": "99e81d33-9077-4a38-f0ef-b59d59ac710c"
      },
      "execution_count": null,
      "outputs": [
        {
          "output_type": "stream",
          "name": "stdout",
          "text": [
            "[[ 9 16 17]\n",
            " [17 15  5]\n",
            " [ 4 10  8]]\n"
          ]
        }
      ]
    },
    {
      "cell_type": "markdown",
      "source": [
        "###Subtract the mean of each row from its respective elements (row-wise normalization)"
      ],
      "metadata": {
        "id": "4GEboDvhEO5g"
      }
    },
    {
      "cell_type": "code",
      "source": [
        "mean=np.mean(a)\n",
        "print(mean)"
      ],
      "metadata": {
        "colab": {
          "base_uri": "https://localhost:8080/"
        },
        "id": "OwYPXRJgEZuT",
        "outputId": "8a2ea968-d155-4a13-a921-465d2faf1ca2"
      },
      "execution_count": null,
      "outputs": [
        {
          "output_type": "stream",
          "name": "stdout",
          "text": [
            "0.47227119494369063\n"
          ]
        }
      ]
    },
    {
      "cell_type": "code",
      "source": [
        "submean=arr-arr.mean(axis=1,keepdims=True)\n",
        "print(submean)"
      ],
      "metadata": {
        "id": "lL0e4BE5Erw7",
        "colab": {
          "base_uri": "https://localhost:8080/"
        },
        "outputId": "7ac118c7-c231-425d-ada3-54c2516dc634"
      },
      "execution_count": 64,
      "outputs": [
        {
          "output_type": "stream",
          "name": "stdout",
          "text": [
            "[[-5.          2.          3.        ]\n",
            " [ 4.66666667  2.66666667 -7.33333333]\n",
            " [-3.33333333  2.66666667  0.66666667]]\n"
          ]
        }
      ]
    },
    {
      "cell_type": "markdown",
      "source": [
        "###Create a new array by squaring all the elements in arr"
      ],
      "metadata": {
        "id": "2ZxiFPYxF_Xm"
      }
    },
    {
      "cell_type": "code",
      "source": [
        "squaredarray=np.sqrt(arr)\n",
        "print(squaredarray)"
      ],
      "metadata": {
        "colab": {
          "base_uri": "https://localhost:8080/"
        },
        "id": "Y4nFYJ7eGFHI",
        "outputId": "1827a339-66c6-42cd-bfda-f54c27868d17"
      },
      "execution_count": null,
      "outputs": [
        {
          "output_type": "stream",
          "name": "stdout",
          "text": [
            "[[3.         4.         4.12310563]\n",
            " [4.12310563 3.87298335 2.23606798]\n",
            " [2.         3.16227766 2.82842712]]\n"
          ]
        }
      ]
    },
    {
      "cell_type": "markdown",
      "source": [
        "###Find the indices of the top 3 maximum values in the entire array"
      ],
      "metadata": {
        "id": "fRfAk0vYGUOP"
      }
    },
    {
      "cell_type": "code",
      "source": [
        "flattenarr=arr.flatten()\n",
        "values=[]\n",
        "indices=[]\n",
        "for i in range(3):\n",
        "  max_value=flattenarr.max()\n",
        "  max_index=flattenarr.argmax()\n",
        "  values.append(max_value)\n",
        "  indices.append(max_index)\n",
        "  flattenarr[max_index]=-1\n",
        "print(\"indices of top 3 max values=\",indices)"
      ],
      "metadata": {
        "colab": {
          "base_uri": "https://localhost:8080/"
        },
        "id": "wDcWdo98JaKH",
        "outputId": "7bfebf38-45db-4d76-826c-d23360f7e71f"
      },
      "execution_count": 67,
      "outputs": [
        {
          "output_type": "stream",
          "name": "stdout",
          "text": [
            "indices of top 3 max values= [2, 3, 1]\n"
          ]
        }
      ]
    }
  ]
}